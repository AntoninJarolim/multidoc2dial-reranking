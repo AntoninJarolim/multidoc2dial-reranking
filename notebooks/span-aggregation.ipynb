{
 "cells": [
  {
   "cell_type": "code",
   "execution_count": null,
   "id": "initial_id",
   "metadata": {
    "collapsed": true
   },
   "outputs": [],
   "source": [
    "import pandas as pd\n",
    "import numpy as np\n",
    "import seaborn as sns\n"
   ]
  },
  {
   "metadata": {
    "jupyter": {
     "is_executing": true
    }
   },
   "cell_type": "code",
   "source": [
    "cross_encoder, tokenizer = init_model()\n",
    "data_provider = InferenceDataProvider()\n",
    "nr_annotated_passages = 16\n",
    "nr_annotated_dialogues = 102\n",
    "\n",
    "df_data = []\n",
    "for diag_id in range(nr_annotated_dialogues):\n",
    "\n",
    "    diag_turns, grounded_agent_utterance, nr_show_utterances, rerank_dialog_examples = \\\n",
    "        data_provider.get_dialog_out(dialog_id)\n",
    "    inf_out = data_provider.get_dialog_inference_out(diag_id, nr_annotated_passages)\n",
    "\n",
    "    for example in inf_out[\"reranked_examples\"]:\n",
    "        if \"gpt_references\" in example:\n",
    "            passage_tokens, gpt_labels_refs, failed_refs = create_grounding_annt_list(example[\"passage\"],\n",
    "                                                                                      example[\"gpt_references\"],\n",
    "                                                                                      1,\n",
    "                                                                                      return_failed=True)\n",
    "            \n",
    "            if not failed_refs:\n",
    "                passage_list, _ = create_grounding_annt_list(r_example['x'],\n",
    "                                                                     grounded_agent_utterance[\"references\"],\n",
    "                                                                     r_example[\"label\"])\n",
    "                sep_index = [i for i, x in enumerate(passage_list) if x == \"[SEP]\"][0]\n",
    "                passage_list = passage_list[sep_index + 1:]\n",
    "                nr_tokens_trunc_passage = len(passage_list)\n",
    "                \n",
    "                # gpt_labels_refs is for whole passage, but inf_out[\"grad_sam_scores\"] is A[SEP]B\n",
    "                record = {\n",
    "                    \"passage\": example[\"passage\"],\n",
    "                    \"passage_tokens\": passage_tokens,\n",
    "                    \"gpt-labels-refs\": gpt_labels_refs[:nr_tokens_trunc_passage], \n",
    "                    \"passage-tokens\": passage_tokens[:nr_tokens_trunc_passage],\n",
    "                    \"grad-sam-refs\": inf_out[\"grad_sam_scores\"][1:][:-1][sep_index + 1:][:nr_tokens_trunc_passage],\n",
    "                    \"passage_w_dialogue\": example[\"x\"],\n",
    "                }\n",
    "                df_data.append(record)\n",
    "\n",
    "df = pd.DataFrame(df_data)\n",
    "\n",
    "df"
   ],
   "id": "10b0918b0165a181",
   "outputs": [],
   "execution_count": null
  },
  {
   "metadata": {},
   "cell_type": "code",
   "outputs": [],
   "execution_count": null,
   "source": [
    "# Transforming grad-sam refs to the format of gpt_label_refs and opposite\n",
    "\n",
    "# Remove all scores before [SEP]\n",
    "score_colour = score_colour[1:][:-1][:len(passage_list)]\n"
   ],
   "id": "3c1cec86683d5a57"
  }
 ],
 "metadata": {
  "kernelspec": {
   "display_name": "Python 3",
   "language": "python",
   "name": "python3"
  },
  "language_info": {
   "codemirror_mode": {
    "name": "ipython",
    "version": 2
   },
   "file_extension": ".py",
   "mimetype": "text/x-python",
   "name": "python",
   "nbconvert_exporter": "python",
   "pygments_lexer": "ipython2",
   "version": "2.7.6"
  }
 },
 "nbformat": 4,
 "nbformat_minor": 5
}
